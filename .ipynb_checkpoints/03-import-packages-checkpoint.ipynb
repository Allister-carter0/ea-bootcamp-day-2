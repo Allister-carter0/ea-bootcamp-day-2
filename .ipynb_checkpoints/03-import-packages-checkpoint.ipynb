{
 "cells": [
  {
   "cell_type": "markdown",
   "metadata": {},
   "source": [
    "## Python Packages and Modules\n",
    "\n",
    "You can think of a package in Python as a tool box of organized code (i.e. functions) that can be used to perform different operations - like produce a plot. In `Python`, packages are organized directories of code that can be imported and used in your work.\n",
    "\n",
    "Throughout this Bootcamp course, you will use the following packages:\n",
    "1. `os` - to access files and directories on the computer\n",
    "2. `numpy` - to store and access data in arrays (i.e. ordered series)\n",
    "3. `pandas` - to store and access data as dataframes (i.e. tabular data with rows and columns)\n",
    "4. `matplotlib` - to plot data\n",
    "\n",
    "Packages can contain many modules (i.e. units of code) that each provide different functions and can build on each other. For example, the `matplotlib` package provides functionality to plot data using modules, one of which is the commonly used module called `pyplot`. \n",
    "\n",
    "Every `Python` package should have a unique name. This allows you to import the package using the name with the `import` command. For example, the command below imports the `matplotlib` package. \n",
    "\n",
    "```python\n",
    "import matplotlib\n",
    "```\n",
    "\n",
    "Modules in different packages may have the same name. Thus, you call a specific module by first calling the package name and then the module name - using `.` to separate the names like this:\n",
    "\n",
    "```python\n",
    "import matplotlib.pyplot\n",
    "\n",
    "```\n",
    "\n",
    "## Aliases\n",
    "\n",
    "When you import packages and modules, you can assign an alias to that package or module which you can use to call  it in your code without having to type out the full name. Thus, aliases can be helpful to shorten the names of packages or modules and can help to distinguish modules that have the same name. \n",
    "\n",
    "You can expand your `import` statement to assign an alias to a package or module by adding the command `as` followed by the alias name (e.g. `import matplotlib.pyplot as plt`). \n",
    "\n",
    "Now every time you want to use `matplotlib.pyplot`, you can type `plt` instead. You will explore the use of aliases in this lesson. \n",
    "\n",
    "\n",
    "## Import Python Packages\n",
    "\n",
    "Moving forward in this course, you will now always begin your `Python` code by importing the necessary packages, so that you can begin with all the functionality you need for your workflow. \n",
    "\n",
    "Begin by importing the `os` package which provides functionality to access files and directories on the computer."
   ]
  },
  {
   "cell_type": "code",
   "execution_count": 1,
   "metadata": {},
   "outputs": [],
   "source": [
    "# import necessary Python packages\n",
    "import os"
   ]
  },
  {
   "cell_type": "markdown",
   "metadata": {},
   "source": [
    "### Use Print() to Display Messages\n",
    "\n",
    "Notice that you do not receive any output, unless the `import` is not successful.\n",
    "\n",
    "Remember that you can you can use `print()` to display a message that the package was successfully imported using the following syntax: `print(\"Some Message Here\")`."
   ]
  },
  {
   "cell_type": "code",
   "execution_count": 2,
   "metadata": {},
   "outputs": [
    {
     "name": "stdout",
     "output_type": "stream",
     "text": [
      "import of package successful\n"
     ]
    }
   ],
   "source": [
    "# import necessary Python packages\n",
    "import os\n",
    "\n",
    "# print a message after the package has been successfully imported\n",
    "print(\"import of package successful\")"
   ]
  },
  {
   "cell_type": "markdown",
   "metadata": {},
   "source": [
    "## Import Python Packages Using Aliases\n",
    "\n",
    "Under **Aliases**, you learned that you can import packages and modules using aliases that you assign with your code.\n",
    "\n",
    "The `os` package has a short name and is not commonly given an alias, but other packages are often given specific aliases that are used by most `Python` users.\n",
    "\n",
    "You saw earlier that `matplotlib.pyplot` can be given the alias of `plt`, which is common among `Python` users. Similarly, `numpy` is often given the alias of `np`, while `pandas` is often given the alias of `pd`. \n",
    "\n",
    "Expand your code to import the `numpy` package with its commonly used alias of `np`."
   ]
  },
  {
   "cell_type": "code",
   "execution_count": 3,
   "metadata": {},
   "outputs": [
    {
     "name": "stdout",
     "output_type": "stream",
     "text": [
      "import of packages successful\n"
     ]
    }
   ],
   "source": [
    "# import necessary Python packages\n",
    "import os\n",
    "import numpy as np\n",
    "\n",
    "# print a message after the packages have been successfully imported\n",
    "print(\"import of packages successful\")"
   ]
  },
  {
   "cell_type": "markdown",
   "metadata": {},
   "source": [
    "Then, add code to import the `matplotlib.pyplot` module with its commonly used alias of `plt`."
   ]
  },
  {
   "cell_type": "code",
   "execution_count": 4,
   "metadata": {},
   "outputs": [
    {
     "name": "stdout",
     "output_type": "stream",
     "text": [
      "import of packages successful\n"
     ]
    }
   ],
   "source": [
    "# import necessary Python packages\n",
    "import os\n",
    "import numpy as np\n",
    "\n",
    "import matplotlib.pyplot as plt\n",
    "\n",
    "# print a message after the packages have been successfully imported\n",
    "print(\"import of packages successful\")"
   ]
  },
  {
   "cell_type": "markdown",
   "metadata": {},
   "source": [
    "## Print the Current Working Directory\n",
    "\n",
    "Recall from the previous lessons that knowing the current working directory is important for accessing files and directories on your computer. \n",
    "\n",
    "Just like in `Bash`, you can check your current working directory in `Python` using a function provided by the `os` package (e.g.`os.getcwd()`). \n",
    "\n",
    "This code calls the function `getcwd()` from the `os` package, and the output will show your current working directory. "
   ]
  },
  {
   "cell_type": "code",
   "execution_count": 5,
   "metadata": {},
   "outputs": [
    {
     "data": {
      "text/plain": [
       "'/home/jpalomino/earth-analytics-bootcamp/ea-bootcamp-day-2'"
      ]
     },
     "execution_count": 5,
     "metadata": {},
     "output_type": "execute_result"
    }
   ],
   "source": [
    "os.getcwd()"
   ]
  },
  {
   "cell_type": "markdown",
   "metadata": {},
   "source": [
    "\n",
    "## <i class=\"fa fa-pencil-square-o\" aria-hidden=\"true\"></i> Optional Challenge \n",
    "\n",
    "Test your `Python` skills to:\n",
    "\n",
    "1. Add a `Python` comment to describe what `os.getcwd()` is doing. Suggestion: `print the current working directory`.\n",
    "\n",
    "2. Expand your code to import the `pandas` package as `pd`. \n",
    "\n",
    "3. Print message to tell you that `pandas` has been successfully imported. \n"
   ]
  },
  {
   "cell_type": "code",
   "execution_count": null,
   "metadata": {},
   "outputs": [],
   "source": []
  }
 ],
 "metadata": {
  "celltoolbar": "Tags",
  "kernelspec": {
   "display_name": "Python [default]",
   "language": "python",
   "name": "python3"
  },
  "language_info": {
   "codemirror_mode": {
    "name": "ipython",
    "version": 3
   },
   "file_extension": ".py",
   "mimetype": "text/x-python",
   "name": "python",
   "nbconvert_exporter": "python",
   "pygments_lexer": "ipython3",
   "version": "3.6.5"
  }
 },
 "nbformat": 4,
 "nbformat_minor": 2
}
